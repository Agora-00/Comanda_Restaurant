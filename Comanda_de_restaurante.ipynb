{
  "nbformat": 4,
  "nbformat_minor": 0,
  "metadata": {
    "colab": {
      "name": "Comanda_de_restaurante.ipynb",
      "provenance": []
    },
    "kernelspec": {
      "name": "python3",
      "display_name": "Python 3"
    },
    "language_info": {
      "name": "python"
    }
  },
  "cells": [
    {
      "cell_type": "code",
      "metadata": {
        "colab": {
          "base_uri": "https://localhost:8080/"
        },
        "id": "SDR5VedcN30D",
        "outputId": "20066b4a-5878-4fa2-93cd-5a6f58b24991"
      },
      "source": [
        "\n",
        "def menu_select(**datos):\n",
        "    for x,y in datos.items():\n",
        "        print(f\"{ ''.center(4, ' ' )}{x}:{y}\")\n",
        "\n",
        "menu_select (mesa=3,comensal=2,entrada=\"Ensalada verde\", medio=\"crema de zanahoria\",fuerte=\"filete\" ,adicionales=\"Filete término medio, la ensalada sin ningun tipo de semilla, Aderezo Ranch\")\n",
        "\n"
      ],
      "execution_count": null,
      "outputs": [
        {
          "output_type": "stream",
          "name": "stdout",
          "text": [
            "    mesa:3\n",
            "    comensal:2\n",
            "    entrada:Ensalada verde\n",
            "    medio:crema de zanahoria\n",
            "    fuerte:filete\n",
            "    adicionales:Filete término medio, la ensalada sin ningun tipo de semilla, Aderezo Ranch\n"
          ]
        }
      ]
    }
  ]
}